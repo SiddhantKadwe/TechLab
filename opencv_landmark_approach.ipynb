{
  "nbformat": 4,
  "nbformat_minor": 0,
  "metadata": {
    "colab": {
      "provenance": []
    },
    "kernelspec": {
      "name": "python3",
      "display_name": "Python 3"
    },
    "language_info": {
      "name": "python"
    },
    "gpuClass": "standard",
    "accelerator": "GPU"
  },
  "cells": [
    {
      "cell_type": "code",
      "execution_count": 1,
      "metadata": {
        "id": "BNiN4QORruma"
      },
      "outputs": [],
      "source": [
        "import pandas as pd\n",
        "import re\n",
        "import os\n",
        "import numpy as np\n",
        "import dlib\n",
        "import cv2\n"
      ]
    },
    {
      "cell_type": "code",
      "source": [
        "# install dlib (will take 10 or more minutes)\n",
        "!apt update\n",
        "!apt install -y cmake\n",
        "!pip install dlib"
      ],
      "metadata": {
        "colab": {
          "base_uri": "https://localhost:8080/"
        },
        "id": "z9b14hDuxnB5",
        "outputId": "839dfb6d-70a5-43f5-f89f-5d706af8cf58"
      },
      "execution_count": null,
      "outputs": [
        {
          "output_type": "stream",
          "name": "stdout",
          "text": [
            "Get:1 https://cloud.r-project.org/bin/linux/ubuntu focal-cran40/ InRelease [3,622 B]\n",
            "Get:2 http://security.ubuntu.com/ubuntu focal-security InRelease [114 kB]\n",
            "Get:3 http://ppa.launchpad.net/c2d4u.team/c2d4u4.0+/ubuntu focal InRelease [18.1 kB]\n",
            "Hit:4 https://developer.download.nvidia.com/compute/cuda/repos/ubuntu2004/x86_64  InRelease\n",
            "Hit:5 http://archive.ubuntu.com/ubuntu focal InRelease\n",
            "Get:6 http://archive.ubuntu.com/ubuntu focal-updates InRelease [114 kB]\n",
            "Hit:7 http://ppa.launchpad.net/cran/libgit2/ubuntu focal InRelease\n",
            "Get:8 http://security.ubuntu.com/ubuntu focal-security/universe amd64 Packages [1,027 kB]\n",
            "Hit:9 http://ppa.launchpad.net/deadsnakes/ppa/ubuntu focal InRelease\n",
            "Get:10 http://archive.ubuntu.com/ubuntu focal-backports InRelease [108 kB]\n",
            "Hit:11 http://ppa.launchpad.net/graphics-drivers/ppa/ubuntu focal InRelease\n",
            "Get:12 http://security.ubuntu.com/ubuntu focal-security/main amd64 Packages [2,589 kB]\n",
            "Get:13 http://archive.ubuntu.com/ubuntu focal-updates/main amd64 Packages [3,068 kB]\n",
            "Hit:14 http://ppa.launchpad.net/ubuntugis/ppa/ubuntu focal InRelease\n",
            "Get:15 http://ppa.launchpad.net/c2d4u.team/c2d4u4.0+/ubuntu focal/main Sources [2,412 kB]\n",
            "Get:16 http://archive.ubuntu.com/ubuntu focal-updates/universe amd64 Packages [1,322 kB]\n",
            "Get:17 http://archive.ubuntu.com/ubuntu focal-updates/restricted amd64 Packages [2,198 kB]\n",
            "Get:18 http://ppa.launchpad.net/c2d4u.team/c2d4u4.0+/ubuntu focal/main amd64 Packages [1,143 kB]\n",
            "Fetched 14.1 MB in 7s (2,116 kB/s)\n",
            "Reading package lists... Done\n",
            "Building dependency tree       \n",
            "Reading state information... Done\n",
            "28 packages can be upgraded. Run 'apt list --upgradable' to see them.\n",
            "Reading package lists... Done\n",
            "Building dependency tree       \n",
            "Reading state information... Done\n",
            "cmake is already the newest version (3.16.3-1ubuntu1.20.04.1).\n",
            "0 upgraded, 0 newly installed, 0 to remove and 28 not upgraded.\n",
            "Looking in indexes: https://pypi.org/simple, https://us-python.pkg.dev/colab-wheels/public/simple/\n",
            "Requirement already satisfied: dlib in /usr/local/lib/python3.9/dist-packages (19.24.1)\n"
          ]
        }
      ]
    },
    {
      "cell_type": "code",
      "source": [
        "from google.colab import drive\n",
        "drive.mount('/content/drive/')"
      ],
      "metadata": {
        "colab": {
          "base_uri": "https://localhost:8080/"
        },
        "id": "NVuir8ANryTf",
        "outputId": "a5880b87-d89b-4d41-9873-d3fb1fa12a9f"
      },
      "execution_count": 2,
      "outputs": [
        {
          "output_type": "stream",
          "name": "stdout",
          "text": [
            "Drive already mounted at /content/drive/; to attempt to forcibly remount, call drive.mount(\"/content/drive/\", force_remount=True).\n"
          ]
        }
      ]
    },
    {
      "cell_type": "code",
      "source": [
        "!wget   http://dlib.net/files/shape_predictor_68_face_landmarks.dat.bz2 # DOWNLOAD LINK\n",
        "\n",
        "!bunzip2 /content/shape_predictor_68_face_landmarks.dat.bz2\n",
        "\n",
        "datFile =  \"/content/shape_predictor_68_face_landmarks.dat\"\n",
        "\n",
        "#CNN face detector - only with GPU\n",
        "!wget http://dlib.net/files/mmod_human_face_detector.dat.bz2\n",
        "\n",
        "!bunzip2 /content/mmod_human_face_detector.dat.bz2\n",
        "\n",
        "cnnFile = \"/content/mmod_human_face_detector.dat\"\n",
        "\n",
        "#dlib functionalities\n",
        "hog_face_detector = dlib.get_frontal_face_detector()\n",
        "cnn_detector = dlib.cnn_face_detection_model_v1(cnnFile)\n",
        "dlib_facelandmark = dlib.shape_predictor(datFile)"
      ],
      "metadata": {
        "colab": {
          "base_uri": "https://localhost:8080/"
        },
        "id": "ImQizbGcwCT1",
        "outputId": "96e1d759-6f2c-4007-b2e4-1e392cd74e3f"
      },
      "execution_count": 3,
      "outputs": [
        {
          "output_type": "stream",
          "name": "stdout",
          "text": [
            "--2023-04-03 22:17:22--  http://dlib.net/files/shape_predictor_68_face_landmarks.dat.bz2\n",
            "Resolving dlib.net (dlib.net)... 107.180.26.78\n",
            "Connecting to dlib.net (dlib.net)|107.180.26.78|:80... connected.\n",
            "HTTP request sent, awaiting response... 200 OK\n",
            "Length: 64040097 (61M)\n",
            "Saving to: ‘shape_predictor_68_face_landmarks.dat.bz2.3’\n",
            "\n",
            "shape_predictor_68_ 100%[===================>]  61.07M  16.1MB/s    in 5.0s    \n",
            "\n",
            "2023-04-03 22:17:27 (12.2 MB/s) - ‘shape_predictor_68_face_landmarks.dat.bz2.3’ saved [64040097/64040097]\n",
            "\n",
            "bunzip2: Output file /content/shape_predictor_68_face_landmarks.dat already exists.\n",
            "--2023-04-03 22:17:28--  http://dlib.net/files/mmod_human_face_detector.dat.bz2\n",
            "Resolving dlib.net (dlib.net)... 107.180.26.78\n",
            "Connecting to dlib.net (dlib.net)|107.180.26.78|:80... connected.\n",
            "HTTP request sent, awaiting response... 200 OK\n",
            "Length: 694709 (678K)\n",
            "Saving to: ‘mmod_human_face_detector.dat.bz2.3’\n",
            "\n",
            "mmod_human_face_det 100%[===================>] 678.43K  1.50MB/s    in 0.4s    \n",
            "\n",
            "2023-04-03 22:17:28 (1.50 MB/s) - ‘mmod_human_face_detector.dat.bz2.3’ saved [694709/694709]\n",
            "\n",
            "bunzip2: Output file /content/mmod_human_face_detector.dat already exists.\n"
          ]
        }
      ]
    },
    {
      "cell_type": "code",
      "source": [
        "#demo of dlib face landmark detection\n",
        "from google.colab.patches import cv2_imshow\n",
        "\n",
        "testimagepath = '/content/drive/MyDrive/newdata/Driver Drowsiness Dataset (DDD)/Non Drowsy/d0590.png'\n",
        "testimage = cv2.imread(os.path.join(testimagepath),cv2.IMREAD_UNCHANGED)\n",
        "\n",
        "#faceList = hog_face_detector(testimage)\n",
        "faceList = cnn_detector(testimage)\n",
        "\n",
        "for singleFace in faceList:\n",
        "  face_landmarks = dlib_facelandmark(testimage, singleFace.rect)\n",
        "\n",
        "  for n in range(0, 68):\n",
        "    x = face_landmarks.part(n).x\n",
        "    y = face_landmarks.part(n).y\n",
        "    cv2.circle(testimage, (x, y), 1, (0, 255, 0), 1)\n",
        "cv2_imshow(testimage)"
      ],
      "metadata": {
        "id": "2JJ7ZHKLbmql",
        "colab": {
          "base_uri": "https://localhost:8080/",
          "height": 244
        },
        "outputId": "0ccb417f-1d05-475e-fff9-9961e25dc41b"
      },
      "execution_count": 4,
      "outputs": [
        {
          "output_type": "display_data",
          "data": {
            "text/plain": [
              "<PIL.Image.Image image mode=RGB size=227x227 at 0x7F97AF8F8160>"
            ],
            "image/png": "[encoded data removed]"
          },
          "metadata": {}
        }
      ]
    },
    {
      "cell_type": "markdown",
      "source": [
        "# Neuer Abschnitt"
      ],
      "metadata": {
        "id": "ztD53baO2J2j"
      }
    },
    {
      "cell_type": "code",
      "source": [
        "from scipy.spatial import distance\n",
        "\n",
        "#calculate the eye aspect ratio\n",
        "def calculate_EAR(eye):\n",
        "  A = distance.euclidean(eye[1], eye[5])\n",
        "  B = distance.euclidean(eye[2], eye[4])\n",
        "  C = distance.euclidean(eye[0], eye[3])\n",
        "  eye_aspect_ratio = (A+B)/(2.0*C)\n",
        "  return eye_aspect_ratio\n"
      ],
      "metadata": {
        "id": "BRhA_soMvp8X"
      },
      "execution_count": 5,
      "outputs": []
    },
    {
      "cell_type": "code",
      "source": [
        "def predictLabelWithEAR(dlib_facelandmark, faces, grayscale, predictions):\n",
        "  #go through all faces that have been detected by the hog_face_detector\n",
        "  for face in faces:\n",
        "    face_landmarks = dlib_facelandmark(grayscale, face.rect)\n",
        "    leftEye = []\n",
        "    rightEye = []\n",
        "\n",
        "    #save landmarks of the eyes\n",
        "    #leftEye\n",
        "    for n in range(36, 42):\n",
        "      x = face_landmarks.part(n).x\n",
        "      y = face_landmarks.part(n).y\n",
        "      #cv2.circle(image, (x, y), 1, (0, 0, 255), 1)\n",
        "      leftEye.append((x,y))\n",
        "    \n",
        "    #rightEye\n",
        "    for n in range(42, 48):\n",
        "      x = face_landmarks.part(n).x\n",
        "      y = face_landmarks.part(n).y\n",
        "      #cv2.circle(image, (x, y), 1, (0, 255, 0), 1)\n",
        "      rightEye.append((x,y))\n",
        "    \n",
        "    #claculate eye aspect ratio for every eye\n",
        "    left_ear = calculate_EAR(leftEye)\n",
        "    right_ear = calculate_EAR(rightEye)\n",
        "\n",
        "    ear = (left_ear+right_ear)/2\n",
        "    ear = round(ear, 2)\n",
        "\n",
        "    #one face detected in the image\n",
        "    if len(faces)==1:\n",
        "      #if eye aspect ratio is below a threshold - classify as drowsy\n",
        "      if ear < 0.26:\n",
        "        #drowsy\n",
        "        predictions.append(0)\n",
        "        return 0\n",
        "      else:\n",
        "        #not drowsy\n",
        "        predictions.append(1)\n",
        "        return 0\n",
        "    else:\n",
        "      #multiple faces detected in the image\n",
        "      predictions.append(2)\n",
        "      return 0\n",
        "\n",
        "#cv2_imshow(image)"
      ],
      "metadata": {
        "id": "l9uNrH6NwxFL"
      },
      "execution_count": 21,
      "outputs": []
    },
    {
      "cell_type": "code",
      "source": [
        "# Add image paths, labels, file names and person IDs into lists\n",
        "image_path, label, file_name, person_ID = [], [], [], []\n",
        "#list of predicted labels by the eye aspect ratio\n",
        "predictions = []\n",
        "\n",
        "pattern = re.compile(r'^[a-zA-Z][a-zA-Z]?') #identification criteria of participant\n",
        "\n",
        "data_dir = \"/content/drive/MyDrive/newdata/Driver Drowsiness Dataset (DDD)/\"\n",
        "#data_dir = \"/content/drive/MyDrive/smalltest/testDDD/\"\n",
        "\n",
        "for class_name in os.listdir(data_dir):  #goes through all folders in DDD folder\n",
        "  for imageName in os.listdir(data_dir+class_name):  #goes through all files in both folders and updates file path and labels\n",
        "    #correct label\n",
        "    if class_name == 'Drowsy':\n",
        "      label.append(0)\n",
        "    else:\n",
        "      label.append(1)\n",
        "    #image path\n",
        "    image_path.append(os.path.join(data_dir, class_name, imageName))\n",
        "    #file name\n",
        "    file_name.append(imageName)\n",
        "    #personID\n",
        "    person_ID.append(pattern.findall(imageName)[0])  #identification of participant\n",
        "\n",
        "    #prediction of the label by landmark\n",
        "    image = cv2.imread(os.path.join(data_dir, class_name, imageName),cv2.IMREAD_UNCHANGED)\n",
        "    #grayscale = cv2.cvtColor(image, cv2.COLOR_BGR2GRAY)\n",
        "    \n",
        "    #faces = hog_face_detector(image)\n",
        "    faces = cnn_detector(image)\n",
        "    if len(faces)==0:\n",
        "      #no face was detected\n",
        "      predictions.append(-1)\n",
        "    else:\n",
        "      #face was detected - predict the label\n",
        "      predictLabelWithEAR(dlib_facelandmark, faces, image, predictions)\n",
        "\n",
        "#dataframe with path, label, predicted label, file name, person_ID of all Persons\n",
        "df = pd.DataFrame()\n",
        "df['images'] = image_path\n",
        "df['label'] = label\n",
        "df['predlabel'] = predictions\n",
        "df['name'] = file_name\n",
        "df['person'] = person_ID\n",
        "\n",
        "print('df')\n",
        "print(df)\n",
        "print('df shape')\n",
        "print(df.shape)"
      ],
      "metadata": {
        "id": "DsOFQmkBQEYX",
        "colab": {
          "base_uri": "https://localhost:8080/"
        },
        "outputId": "f4009dab-40a0-45d2-f889-1410ac2e8ba0"
      },
      "execution_count": 22,
      "outputs": [
        {
          "output_type": "stream",
          "name": "stdout",
          "text": [
            "df\n",
            "                                                  images  label  predlabel  \\\n",
            "0      /content/drive/MyDrive/newdata/Driver Drowsine...      1          1   \n",
            "1      /content/drive/MyDrive/newdata/Driver Drowsine...      1          1   \n",
            "2      /content/drive/MyDrive/newdata/Driver Drowsine...      1          1   \n",
            "3      /content/drive/MyDrive/newdata/Driver Drowsine...      1          1   \n",
            "4      /content/drive/MyDrive/newdata/Driver Drowsine...      1          1   \n",
            "...                                                  ...    ...        ...   \n",
            "41788  /content/drive/MyDrive/newdata/Driver Drowsine...      0          0   \n",
            "41789  /content/drive/MyDrive/newdata/Driver Drowsine...      0          0   \n",
            "41790  /content/drive/MyDrive/newdata/Driver Drowsine...      0          0   \n",
            "41791  /content/drive/MyDrive/newdata/Driver Drowsine...      0          0   \n",
            "41792  /content/drive/MyDrive/newdata/Driver Drowsine...      0          1   \n",
            "\n",
            "             name person  \n",
            "0      zc0353.png     zc  \n",
            "1      zc0396.png     zc  \n",
            "2      zc0386.png     zc  \n",
            "3      zc0382.png     zc  \n",
            "4      zc0408.png     zc  \n",
            "...           ...    ...  \n",
            "41788   A0370.png      A  \n",
            "41789   A0363.png      A  \n",
            "41790   A0386.png      A  \n",
            "41791   A0403.png      A  \n",
            "41792   A0367.png      A  \n",
            "\n",
            "[41793 rows x 5 columns]\n",
            "df shape\n",
            "(41793, 5)\n"
          ]
        }
      ]
    },
    {
      "cell_type": "code",
      "source": [
        "#classiefied wrong by eye aspect ratio\n",
        "notCorrectDf = df[df['label']!=df['predlabel']]\n",
        "print('notCorrectDf')\n",
        "print(notCorrectDf.shape)\n",
        "\n",
        "#classified correctly by eye aspect ratio\n",
        "CorrectDf = df[df['label']==df['predlabel']]\n",
        "print('CorrectDf')\n",
        "print(CorrectDf.shape)"
      ],
      "metadata": {
        "colab": {
          "base_uri": "https://localhost:8080/"
        },
        "id": "LskotVUNAKl9",
        "outputId": "163ffd63-edac-4f34-fc4a-303e880498c4"
      },
      "execution_count": 29,
      "outputs": [
        {
          "output_type": "stream",
          "name": "stdout",
          "text": [
            "notCorrectDf\n",
            "(15057, 5)\n",
            "CorrectDf\n",
            "(26736, 5)\n"
          ]
        }
      ]
    },
    {
      "cell_type": "code",
      "source": [
        "notCorrectDf.groupby('person').size()"
      ],
      "metadata": {
        "colab": {
          "base_uri": "https://localhost:8080/"
        },
        "id": "F8UmP7fwBAD-",
        "outputId": "0a8d4718-e279-4ae0-ee0c-f8eafe7962ae"
      },
      "execution_count": 30,
      "outputs": [
        {
          "output_type": "execute_result",
          "data": {
            "text/plain": [
              "person\n",
              "A      350\n",
              "B       65\n",
              "C      326\n",
              "D       88\n",
              "E      955\n",
              "F      395\n",
              "G       16\n",
              "H      494\n",
              "I      125\n",
              "J        1\n",
              "K      450\n",
              "L      242\n",
              "M        5\n",
              "N       13\n",
              "O      859\n",
              "P       20\n",
              "Q      210\n",
              "R      168\n",
              "S       37\n",
              "T       78\n",
              "U      225\n",
              "V       76\n",
              "W      978\n",
              "X      313\n",
              "Y       64\n",
              "ZA      47\n",
              "ZB     783\n",
              "ZC    1327\n",
              "a      189\n",
              "b       20\n",
              "c        4\n",
              "d      186\n",
              "e       21\n",
              "g        8\n",
              "h       94\n",
              "i      730\n",
              "j       68\n",
              "k       40\n",
              "l        6\n",
              "m      380\n",
              "n      658\n",
              "o        6\n",
              "p      187\n",
              "q       13\n",
              "r       38\n",
              "s       56\n",
              "u       24\n",
              "v      670\n",
              "w        2\n",
              "x     1103\n",
              "y      518\n",
              "za    1016\n",
              "zb     280\n",
              "zc      30\n",
              "dtype: int64"
            ]
          },
          "metadata": {},
          "execution_count": 30
        }
      ]
    },
    {
      "cell_type": "code",
      "source": [
        "#error face couldnt be detected\n",
        "noFaceDetection = notCorrectDf[notCorrectDf['predlabel']==-1]\n",
        "print('noFaceDetection')\n",
        "print(noFaceDetection.shape)\n",
        "print('-----')\n",
        "noFaceDetection.groupby('person').size()"
      ],
      "metadata": {
        "colab": {
          "base_uri": "https://localhost:8080/"
        },
        "id": "SLTUJJWCCJtH",
        "outputId": "91d183ec-d61e-4c20-fbee-8f832df8360f"
      },
      "execution_count": 31,
      "outputs": [
        {
          "output_type": "stream",
          "name": "stdout",
          "text": [
            "noFaceDetection\n",
            "(961, 5)\n",
            "-----\n"
          ]
        },
        {
          "output_type": "execute_result",
          "data": {
            "text/plain": [
              "person\n",
              "E     908\n",
              "G       5\n",
              "U       1\n",
              "ZB     25\n",
              "c       1\n",
              "e      21\n",
              "dtype: int64"
            ]
          },
          "metadata": {},
          "execution_count": 31
        }
      ]
    },
    {
      "cell_type": "code",
      "source": [
        "#face detected but classified wrong\n",
        "classifiedWrong = notCorrectDf[notCorrectDf['predlabel']!=-1]\n",
        "\n",
        "classifiedWrong = classifiedWrong[classifiedWrong['predlabel']!=2]\n",
        "\n",
        "print('classifiedWrong')\n",
        "print(classifiedWrong.shape)\n",
        "print('-----')\n",
        "classifiedWrong.groupby('person').size()"
      ],
      "metadata": {
        "colab": {
          "base_uri": "https://localhost:8080/"
        },
        "id": "i232V76jVpAd",
        "outputId": "c44531ad-de8e-46ad-b90a-8f3b8b7c1e75"
      },
      "execution_count": 39,
      "outputs": [
        {
          "output_type": "stream",
          "name": "stdout",
          "text": [
            "classifiedWrong\n",
            "(14061, 5)\n",
            "-----\n"
          ]
        },
        {
          "output_type": "execute_result",
          "data": {
            "text/plain": [
              "person\n",
              "A      350\n",
              "B       65\n",
              "C      326\n",
              "D       88\n",
              "E       47\n",
              "F      395\n",
              "G       11\n",
              "H      487\n",
              "I      125\n",
              "J        1\n",
              "K      450\n",
              "L      242\n",
              "M        5\n",
              "N       13\n",
              "O      859\n",
              "P       20\n",
              "Q      210\n",
              "R      168\n",
              "S       37\n",
              "T       51\n",
              "U      224\n",
              "V       76\n",
              "W      978\n",
              "X      313\n",
              "Y       64\n",
              "ZA      47\n",
              "ZB     758\n",
              "ZC    1327\n",
              "a      189\n",
              "b       20\n",
              "c        3\n",
              "d      186\n",
              "g        8\n",
              "h       94\n",
              "i      730\n",
              "j       68\n",
              "k       40\n",
              "l        6\n",
              "m      380\n",
              "n      658\n",
              "o        6\n",
              "p      187\n",
              "q       13\n",
              "r       38\n",
              "s       56\n",
              "u       24\n",
              "v      670\n",
              "w        2\n",
              "x     1103\n",
              "y      518\n",
              "za    1015\n",
              "zb     280\n",
              "zc      30\n",
              "dtype: int64"
            ]
          },
          "metadata": {},
          "execution_count": 39
        }
      ]
    },
    {
      "cell_type": "code",
      "source": [
        "#correct labels of the wrong classified\n",
        "classifiedWrong.groupby('label').size()\n",
        "\n",
        "#try out ear < 0.27"
      ],
      "metadata": {
        "colab": {
          "base_uri": "https://localhost:8080/"
        },
        "id": "7OP4CxcijGAD",
        "outputId": "0b0e2e72-f0f0-436f-fcc7-7621ab73cab9"
      },
      "execution_count": 40,
      "outputs": [
        {
          "output_type": "execute_result",
          "data": {
            "text/plain": [
              "label\n",
              "0    7737\n",
              "1    6324\n",
              "dtype: int64"
            ]
          },
          "metadata": {},
          "execution_count": 40
        }
      ]
    },
    {
      "cell_type": "code",
      "source": [
        "#multiple faces detected but only one face per image\n",
        "multipleFacesDetected = notCorrectDf[notCorrectDf['predlabel']==2]\n",
        "print('multipleFacesDetected')\n",
        "print(multipleFacesDetected.shape)\n",
        "print('-----')\n",
        "multipleFacesDetected.groupby('person').size()"
      ],
      "metadata": {
        "colab": {
          "base_uri": "https://localhost:8080/"
        },
        "id": "v_vER15afAJB",
        "outputId": "5ea8454b-8469-4ded-cfcd-aae766f5921b"
      },
      "execution_count": 37,
      "outputs": [
        {
          "output_type": "stream",
          "name": "stdout",
          "text": [
            "multipleFacesDetected\n",
            "(35, 5)\n",
            "-----\n"
          ]
        },
        {
          "output_type": "execute_result",
          "data": {
            "text/plain": [
              "person\n",
              "H      7\n",
              "T     27\n",
              "za     1\n",
              "dtype: int64"
            ]
          },
          "metadata": {},
          "execution_count": 37
        }
      ]
    },
    {
      "cell_type": "code",
      "source": [
        "accuracy = CorrectDf.shape[0]/df.shape[0]\n",
        "print('accuracy')\n",
        "print(accuracy)"
      ],
      "metadata": {
        "colab": {
          "base_uri": "https://localhost:8080/"
        },
        "id": "nx37qQW6k5hf",
        "outputId": "4b4d9f74-2551-4674-edb3-1e84bdccaa17"
      },
      "execution_count": 43,
      "outputs": [
        {
          "output_type": "stream",
          "name": "stdout",
          "text": [
            "accuracy\n",
            "0.6397243557533558\n"
          ]
        }
      ]
    }
  ]
}