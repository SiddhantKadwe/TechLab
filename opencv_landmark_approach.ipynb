{
  "nbformat": 4,
  "nbformat_minor": 0,
  "metadata": {
    "colab": {
      "provenance": []
    },
    "kernelspec": {
      "name": "python3",
      "display_name": "Python 3"
    },
    "language_info": {
      "name": "python"
    },
    "gpuClass": "standard"
  },
  "cells": [
    {
      "cell_type": "code",
      "execution_count": null,
      "metadata": {
        "id": "BNiN4QORruma"
      },
      "outputs": [],
      "source": [
        "import pandas as pd\n",
        "import re\n",
        "import os\n",
        "import numpy as np\n",
        "import dlib\n",
        "import cv2\n",
        "\n",
        "#from torch.utils.data import Dataset, DataLoader\n",
        "#from torchvision.datasets import ImageFolder\n",
        "#from torchvision import transforms\n",
        "#from PIL import Image\n",
        "#import torch\n",
        "#import torch.nn as nn\n",
        "#import torch.nn.functional as F\n",
        "#import math"
      ]
    },
    {
      "cell_type": "code",
      "source": [
        "# install dlib (will take 10 or more minutes)\n",
        "!apt update\n",
        "!apt install -y cmake\n",
        "!pip install dlib"
      ],
      "metadata": {
        "colab": {
          "base_uri": "https://localhost:8080/"
        },
        "id": "z9b14hDuxnB5",
        "outputId": "839dfb6d-70a5-43f5-f89f-5d706af8cf58"
      },
      "execution_count": null,
      "outputs": [
        {
          "output_type": "stream",
          "name": "stdout",
          "text": [
            "Get:1 https://cloud.r-project.org/bin/linux/ubuntu focal-cran40/ InRelease [3,622 B]\n",
            "Get:2 http://security.ubuntu.com/ubuntu focal-security InRelease [114 kB]\n",
            "Get:3 http://ppa.launchpad.net/c2d4u.team/c2d4u4.0+/ubuntu focal InRelease [18.1 kB]\n",
            "Hit:4 https://developer.download.nvidia.com/compute/cuda/repos/ubuntu2004/x86_64  InRelease\n",
            "Hit:5 http://archive.ubuntu.com/ubuntu focal InRelease\n",
            "Get:6 http://archive.ubuntu.com/ubuntu focal-updates InRelease [114 kB]\n",
            "Hit:7 http://ppa.launchpad.net/cran/libgit2/ubuntu focal InRelease\n",
            "Get:8 http://security.ubuntu.com/ubuntu focal-security/universe amd64 Packages [1,027 kB]\n",
            "Hit:9 http://ppa.launchpad.net/deadsnakes/ppa/ubuntu focal InRelease\n",
            "Get:10 http://archive.ubuntu.com/ubuntu focal-backports InRelease [108 kB]\n",
            "Hit:11 http://ppa.launchpad.net/graphics-drivers/ppa/ubuntu focal InRelease\n",
            "Get:12 http://security.ubuntu.com/ubuntu focal-security/main amd64 Packages [2,589 kB]\n",
            "Get:13 http://archive.ubuntu.com/ubuntu focal-updates/main amd64 Packages [3,068 kB]\n",
            "Hit:14 http://ppa.launchpad.net/ubuntugis/ppa/ubuntu focal InRelease\n",
            "Get:15 http://ppa.launchpad.net/c2d4u.team/c2d4u4.0+/ubuntu focal/main Sources [2,412 kB]\n",
            "Get:16 http://archive.ubuntu.com/ubuntu focal-updates/universe amd64 Packages [1,322 kB]\n",
            "Get:17 http://archive.ubuntu.com/ubuntu focal-updates/restricted amd64 Packages [2,198 kB]\n",
            "Get:18 http://ppa.launchpad.net/c2d4u.team/c2d4u4.0+/ubuntu focal/main amd64 Packages [1,143 kB]\n",
            "Fetched 14.1 MB in 7s (2,116 kB/s)\n",
            "Reading package lists... Done\n",
            "Building dependency tree       \n",
            "Reading state information... Done\n",
            "28 packages can be upgraded. Run 'apt list --upgradable' to see them.\n",
            "Reading package lists... Done\n",
            "Building dependency tree       \n",
            "Reading state information... Done\n",
            "cmake is already the newest version (3.16.3-1ubuntu1.20.04.1).\n",
            "0 upgraded, 0 newly installed, 0 to remove and 28 not upgraded.\n",
            "Looking in indexes: https://pypi.org/simple, https://us-python.pkg.dev/colab-wheels/public/simple/\n",
            "Requirement already satisfied: dlib in /usr/local/lib/python3.9/dist-packages (19.24.1)\n"
          ]
        }
      ]
    },
    {
      "cell_type": "code",
      "source": [
        "from google.colab import drive\n",
        "drive.mount('/content/drive/')"
      ],
      "metadata": {
        "colab": {
          "base_uri": "https://localhost:8080/"
        },
        "id": "NVuir8ANryTf",
        "outputId": "46081029-5965-49d8-cd56-894276610f43"
      },
      "execution_count": null,
      "outputs": [
        {
          "output_type": "stream",
          "name": "stdout",
          "text": [
            "Mounted at /content/drive/\n"
          ]
        }
      ]
    },
    {
      "cell_type": "code",
      "source": [
        "!wget   http://dlib.net/files/shape_predictor_68_face_landmarks.dat.bz2 # DOWNLOAD LINK\n",
        "\n",
        "!bunzip2 /content/shape_predictor_68_face_landmarks.dat.bz2\n",
        "\n",
        "datFile =  \"/content/shape_predictor_68_face_landmarks.dat\"\n",
        "\n",
        "#dlib functionalities\n",
        "hog_face_detector = dlib.get_frontal_face_detector()\n",
        "dlib_facelandmark = dlib.shape_predictor(datFile)"
      ],
      "metadata": {
        "colab": {
          "base_uri": "https://localhost:8080/"
        },
        "id": "ImQizbGcwCT1",
        "outputId": "d1289542-fa99-494e-9c2a-a6b591a690ba"
      },
      "execution_count": null,
      "outputs": [
        {
          "output_type": "stream",
          "name": "stdout",
          "text": [
            "--2023-03-31 08:43:05--  http://dlib.net/files/shape_predictor_68_face_landmarks.dat.bz2\n",
            "Resolving dlib.net (dlib.net)... 107.180.26.78\n",
            "Connecting to dlib.net (dlib.net)|107.180.26.78|:80... connected.\n",
            "HTTP request sent, awaiting response... 200 OK\n",
            "Length: 64040097 (61M)\n",
            "Saving to: ‘shape_predictor_68_face_landmarks.dat.bz2’\n",
            "\n",
            "shape_predictor_68_ 100%[===================>]  61.07M  14.5MB/s    in 9.0s    \n",
            "\n",
            "2023-03-31 08:43:14 (6.76 MB/s) - ‘shape_predictor_68_face_landmarks.dat.bz2’ saved [64040097/64040097]\n",
            "\n"
          ]
        }
      ]
    },
    {
      "cell_type": "code",
      "source": [
        "#demo of dlib face landmark detection\n",
        "from google.colab.patches import cv2_imshow\n",
        "\n",
        "testimagepath = '/content/drive/MyDrive/newdata/Driver Drowsiness Dataset (DDD)/Non Drowsy/d0590.png'\n",
        "testimage = cv2.imread(os.path.join(testimagepath),cv2.IMREAD_UNCHANGED)\n",
        "\n",
        "faceList = hog_face_detector(testimage)\n",
        "for singleFace in faceList:\n",
        "  face_landmarks = dlib_facelandmark(testimage, singleFace)\n",
        "\n",
        "  for n in range(0, 68):\n",
        "    x = face_landmarks.part(n).x\n",
        "    y = face_landmarks.part(n).y\n",
        "    cv2.circle(testimage, (x, y), 1, (255, 255, 0), 1)\n",
        "cv2_imshow(testimage)"
      ],
      "metadata": {
        "id": "2JJ7ZHKLbmql",
        "colab": {
          "base_uri": "https://localhost:8080/",
          "height": 244
        },
        "outputId": "639fa969-d6f2-4b3d-a28e-3e4e4ac9aaeb"
      },
      "execution_count": null,
      "outputs": [
        {
          "output_type": "display_data",
          "data": {
            "text/plain": [
              "<PIL.Image.Image image mode=RGB size=227x227 at 0x7F27C5EAEC10>"
            ],
            "image/png": "[encoded data removed]"
          },
          "metadata": {}
        }
      ]
    },
    {
      "cell_type": "markdown",
      "source": [
        "# Neuer Abschnitt"
      ],
      "metadata": {
        "id": "ztD53baO2J2j"
      }
    },
    {
      "cell_type": "code",
      "source": [
        "from scipy.spatial import distance\n",
        "\n",
        "#calculate the eye aspect ratio\n",
        "def calculate_EAR(eye):\n",
        "  A = distance.euclidean(eye[1], eye[5])\n",
        "  B = distance.euclidean(eye[2], eye[4])\n",
        "  C = distance.euclidean(eye[0], eye[3])\n",
        "  eye_aspect_ratio = (A+B)/(2.0*C)\n",
        "  return eye_aspect_ratio\n"
      ],
      "metadata": {
        "id": "BRhA_soMvp8X"
      },
      "execution_count": null,
      "outputs": []
    },
    {
      "cell_type": "code",
      "source": [
        "def predictLabelWithEAR(dlib_facelandmark, faces, grayscale, predictions):\n",
        "  #go through all faces that have been detected by the hog_face_detector\n",
        "  for face in faces:\n",
        "    face_landmarks = dlib_facelandmark(grayscale, face)\n",
        "    leftEye = []\n",
        "    rightEye = []\n",
        "\n",
        "    #save landmarks of the eyes\n",
        "    #leftEye\n",
        "    for n in range(36, 42):\n",
        "      x = face_landmarks.part(n).x\n",
        "      y = face_landmarks.part(n).y\n",
        "      #cv2.circle(image, (x, y), 1, (0, 0, 255), 1)\n",
        "      leftEye.append((x,y))\n",
        "    \n",
        "    #rightEye\n",
        "    for n in range(42, 48):\n",
        "      x = face_landmarks.part(n).x\n",
        "      y = face_landmarks.part(n).y\n",
        "      #cv2.circle(image, (x, y), 1, (0, 255, 0), 1)\n",
        "      rightEye.append((x,y))\n",
        "    \n",
        "    #claculate eye aspect ratio for every eye\n",
        "    left_ear = calculate_EAR(leftEye)\n",
        "    right_ear = calculate_EAR(rightEye)\n",
        "\n",
        "    ear = (left_ear+right_ear)/2\n",
        "    ear = round(ear, 2)\n",
        "\n",
        "    #if eye aspect ratio is below a threshold - classify as drowsy\n",
        "    if ear < 0.26:\n",
        "      #drowsy\n",
        "      predictions.append(0)\n",
        "    else:\n",
        "      #not drowsy\n",
        "      predictions.append(1)\n",
        "\n",
        "#cv2_imshow(image)"
      ],
      "metadata": {
        "id": "l9uNrH6NwxFL"
      },
      "execution_count": null,
      "outputs": []
    },
    {
      "cell_type": "code",
      "source": [
        "# Add image paths, labels, file names and person IDs into lists\n",
        "image_path, label, file_name, person_ID = [], [], [], []\n",
        "#list of predicted labels by the eye aspect ratio\n",
        "predictions = []\n",
        "\n",
        "pattern = re.compile(r'^[a-zA-Z][a-zA-Z]?') #identification criteria of participant\n",
        "\n",
        "data_dir = \"/content/drive/MyDrive/newdata/Driver Drowsiness Dataset (DDD)/\"\n",
        "#data_dir = \"/content/drive/MyDrive/smalltest/testDDD/\"\n",
        "\n",
        "for class_name in os.listdir(data_dir):  #goes through all folders in DDD folder\n",
        "  for imageName in os.listdir(data_dir+class_name):  #goes through all files in both folders and updates file path and labels\n",
        "    #correct label\n",
        "    if class_name == 'Drowsy':\n",
        "      label.append(0)\n",
        "    else:\n",
        "      label.append(1)\n",
        "    #image path\n",
        "    image_path.append(os.path.join(data_dir, class_name, imageName))\n",
        "    #file name\n",
        "    file_name.append(imageName)\n",
        "    #personID\n",
        "    person_ID.append(pattern.findall(imageName)[0])  #identification of participant\n",
        "\n",
        "    #prediction of the label by landmark\n",
        "    image = cv2.imread(os.path.join(data_dir, class_name, imageName),cv2.IMREAD_UNCHANGED)\n",
        "    #grayscale = cv2.cvtColor(image, cv2.COLOR_BGR2GRAY)\n",
        "    faces = hog_face_detector(image)\n",
        "    if len(faces)==0:\n",
        "      #no face was detected\n",
        "      predictions.append(-1)\n",
        "    else:\n",
        "      #face was detected - predict the label\n",
        "      predictLabelWithEAR(dlib_facelandmark, faces, image, predictions)\n",
        "\n",
        "#dataframe with path, label, predicted label, file name, person_ID of all Persons\n",
        "df = pd.DataFrame()\n",
        "df['images'] = image_path\n",
        "df['label'] = label\n",
        "df['predlabel'] = predictions\n",
        "df['name'] = file_name\n",
        "df['person'] = person_ID\n",
        "\n",
        "print('df')\n",
        "print(df)\n",
        "print('df shape')\n",
        "print(df.shape)"
      ],
      "metadata": {
        "id": "DsOFQmkBQEYX",
        "colab": {
          "base_uri": "https://localhost:8080/"
        },
        "outputId": "d712e6fe-cbaf-4fb9-e5e2-4dd112ce720b"
      },
      "execution_count": null,
      "outputs": [
        {
          "output_type": "stream",
          "name": "stdout",
          "text": [
            "df\n",
            "                                                  images  label  predlabel  \\\n",
            "0      /content/drive/MyDrive/newdata/Driver Drowsine...      1          0   \n",
            "1      /content/drive/MyDrive/newdata/Driver Drowsine...      1          1   \n",
            "2      /content/drive/MyDrive/newdata/Driver Drowsine...      1          1   \n",
            "3      /content/drive/MyDrive/newdata/Driver Drowsine...      1          1   \n",
            "4      /content/drive/MyDrive/newdata/Driver Drowsine...      1          1   \n",
            "...                                                  ...    ...        ...   \n",
            "41788  /content/drive/MyDrive/newdata/Driver Drowsine...      0          0   \n",
            "41789  /content/drive/MyDrive/newdata/Driver Drowsine...      0          0   \n",
            "41790  /content/drive/MyDrive/newdata/Driver Drowsine...      0          0   \n",
            "41791  /content/drive/MyDrive/newdata/Driver Drowsine...      0          0   \n",
            "41792  /content/drive/MyDrive/newdata/Driver Drowsine...      0          1   \n",
            "\n",
            "             name person  \n",
            "0      zc0353.png     zc  \n",
            "1      zc0396.png     zc  \n",
            "2      zc0386.png     zc  \n",
            "3      zc0382.png     zc  \n",
            "4      zc0408.png     zc  \n",
            "...           ...    ...  \n",
            "41788   A0370.png      A  \n",
            "41789   A0363.png      A  \n",
            "41790   A0386.png      A  \n",
            "41791   A0403.png      A  \n",
            "41792   A0367.png      A  \n",
            "\n",
            "[41793 rows x 5 columns]\n",
            "df shape\n",
            "(41793, 5)\n"
          ]
        }
      ]
    },
    {
      "cell_type": "code",
      "source": [
        "#classiefied wrong by eye aspect ratio\n",
        "notCorrectDf = df[df['label']!=df['predlabel']]\n",
        "print('notCorrectDf')\n",
        "print(notCorrectDf.shape)\n",
        "\n",
        "#classified correctly by eye aspect ratio\n",
        "CorrectDf = df[df['label']==df['predlabel']]\n",
        "print('CorrectDf')\n",
        "print(CorrectDf.shape)"
      ],
      "metadata": {
        "colab": {
          "base_uri": "https://localhost:8080/"
        },
        "id": "LskotVUNAKl9",
        "outputId": "f9142b69-9f29-4696-d2c1-7d89cf71423a"
      },
      "execution_count": null,
      "outputs": [
        {
          "output_type": "stream",
          "name": "stdout",
          "text": [
            "notCorrectDf\n",
            "(18851, 5)\n",
            "CorrectDf\n",
            "(22942, 5)\n"
          ]
        }
      ]
    },
    {
      "cell_type": "code",
      "source": [
        "notCorrectDf.groupby('person').size()"
      ],
      "metadata": {
        "colab": {
          "base_uri": "https://localhost:8080/"
        },
        "id": "F8UmP7fwBAD-",
        "outputId": "972e46f3-8e5c-4dd3-dc56-49243f8eb861"
      },
      "execution_count": null,
      "outputs": [
        {
          "output_type": "execute_result",
          "data": {
            "text/plain": [
              "person\n",
              "A      194\n",
              "B      125\n",
              "C      332\n",
              "D       96\n",
              "E      906\n",
              "F      395\n",
              "G       68\n",
              "H      505\n",
              "I      140\n",
              "J       16\n",
              "K      465\n",
              "L      430\n",
              "M      757\n",
              "N      845\n",
              "O      925\n",
              "P      161\n",
              "Q      116\n",
              "R      166\n",
              "S       79\n",
              "T        8\n",
              "U      404\n",
              "V       54\n",
              "W      973\n",
              "X      270\n",
              "Y       59\n",
              "ZA      64\n",
              "ZB     842\n",
              "ZC    1327\n",
              "a      284\n",
              "b       50\n",
              "c      345\n",
              "d      138\n",
              "e      218\n",
              "g        8\n",
              "h       67\n",
              "i      945\n",
              "j       77\n",
              "k       33\n",
              "l        1\n",
              "m      432\n",
              "n      851\n",
              "o       93\n",
              "p      187\n",
              "q       50\n",
              "r       40\n",
              "s       31\n",
              "u      195\n",
              "v      662\n",
              "w        6\n",
              "x     1097\n",
              "y      857\n",
              "za    1030\n",
              "zb     400\n",
              "zc      32\n",
              "dtype: int64"
            ]
          },
          "metadata": {},
          "execution_count": 19
        }
      ]
    },
    {
      "cell_type": "code",
      "source": [
        "#error face couldnt be detected\n",
        "noFaceDetection = notCorrectDf[notCorrectDf['predlabel']==-1]\n",
        "print('noFaceDetection')\n",
        "print(noFaceDetection.shape)\n",
        "print('-----')\n",
        "noFaceDetection.groupby('person').size()"
      ],
      "metadata": {
        "colab": {
          "base_uri": "https://localhost:8080/"
        },
        "id": "SLTUJJWCCJtH",
        "outputId": "c2dd677c-08b1-4fe8-9384-82b56d862032"
      },
      "execution_count": null,
      "outputs": [
        {
          "output_type": "stream",
          "name": "stdout",
          "text": [
            "noFaceDetection\n",
            "(5747, 5)\n",
            "-----\n"
          ]
        },
        {
          "output_type": "execute_result",
          "data": {
            "text/plain": [
              "person\n",
              "B      83\n",
              "C     101\n",
              "D       3\n",
              "E     753\n",
              "G      68\n",
              "H       5\n",
              "I      20\n",
              "J      15\n",
              "M     757\n",
              "N     838\n",
              "O     302\n",
              "P     149\n",
              "R      24\n",
              "S      37\n",
              "T       3\n",
              "U     334\n",
              "V      10\n",
              "W      28\n",
              "X      10\n",
              "Y       1\n",
              "ZA     15\n",
              "ZB    126\n",
              "a      68\n",
              "b      35\n",
              "c     345\n",
              "e     218\n",
              "i     144\n",
              "m     218\n",
              "n     582\n",
              "o      72\n",
              "u     181\n",
              "v      40\n",
              "w       5\n",
              "x      13\n",
              "y     132\n",
              "za      8\n",
              "zb      4\n",
              "dtype: int64"
            ]
          },
          "metadata": {},
          "execution_count": 20
        }
      ]
    },
    {
      "cell_type": "code",
      "source": [
        "#face detected but classified wrong\n",
        "notCorrectDf[notCorrectDf['predlabel']!=-1].groupby('person').size()"
      ],
      "metadata": {
        "colab": {
          "base_uri": "https://localhost:8080/"
        },
        "id": "i232V76jVpAd",
        "outputId": "86d87286-7c3e-4de3-d1df-6de7d6430b59"
      },
      "execution_count": null,
      "outputs": [
        {
          "output_type": "execute_result",
          "data": {
            "text/plain": [
              "person\n",
              "A      194\n",
              "B       42\n",
              "C      231\n",
              "D       93\n",
              "E      153\n",
              "F      395\n",
              "H      500\n",
              "I      120\n",
              "J        1\n",
              "K      465\n",
              "L      430\n",
              "N        7\n",
              "O      623\n",
              "P       12\n",
              "Q      116\n",
              "R      142\n",
              "S       42\n",
              "T        5\n",
              "U       70\n",
              "V       44\n",
              "W      945\n",
              "X      260\n",
              "Y       58\n",
              "ZA      49\n",
              "ZB     716\n",
              "ZC    1327\n",
              "a      216\n",
              "b       15\n",
              "d      138\n",
              "g        8\n",
              "h       67\n",
              "i      801\n",
              "j       77\n",
              "k       33\n",
              "l        1\n",
              "m      214\n",
              "n      269\n",
              "o       21\n",
              "p      187\n",
              "q       50\n",
              "r       40\n",
              "s       31\n",
              "u       14\n",
              "v      622\n",
              "w        1\n",
              "x     1084\n",
              "y      725\n",
              "za    1022\n",
              "zb     396\n",
              "zc      32\n",
              "dtype: int64"
            ]
          },
          "metadata": {},
          "execution_count": 22
        }
      ]
    }
  ]
}